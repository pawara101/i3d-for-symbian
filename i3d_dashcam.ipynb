{
 "cells": [
  {
   "cell_type": "code",
   "execution_count": 1,
   "metadata": {},
   "outputs": [],
   "source": [
    "from models.i3d.extract_i3d import ExtractI3D\n",
    "from utils.utils import build_cfg_path\n",
    "from omegaconf import OmegaConf\n",
    "import torch"
   ]
  },
  {
   "cell_type": "code",
   "execution_count": null,
   "metadata": {},
   "outputs": [],
   "source": [
    "# # Select the feature type\n",
    "# feature_type = 'i3d'\n",
    "\n",
    "# # Load and patch the config\n",
    "# args = OmegaConf.load(build_cfg_path(feature_type))\n",
    "# args.video_paths = ['./sample/000830.mp4']\n",
    "# # args.show_pred = True\n",
    "# # args.stack_size = 24\n",
    "# # args.step_size = 24\n",
    "# # args.extraction_fps = 25\n",
    "# args.flow_type = 'raft'\n",
    "# # args.streams = 'flow'\n",
    "# args.on_extraction = 'save_numpy'\n",
    "\n",
    "\n",
    "# # Load the model\n",
    "# extractor = ExtractI3D(args)\n",
    "\n",
    "# # Extract features\n",
    "# for video_path in args.video_paths:\n",
    "#     print(f'Extracting for {video_path}')\n",
    "#     feature_dict = extractor.extract(video_path)\n",
    "#     [(print(k), print(v.shape), print(v)) for k, v in feature_dict.items()]"
   ]
  },
  {
   "cell_type": "code",
   "execution_count": 8,
   "metadata": {},
   "outputs": [
    {
     "name": "stdout",
     "output_type": "stream",
     "text": [
      "[[0.12685378 0.03945363 0.07631426 ... 0.1193068  0.1544899  0.14193013]]\n"
     ]
    }
   ],
   "source": [
    "import numpy as np\n",
    "file  = r'output\\000830_flow.npy'\n",
    "\n",
    "file_data = np.load(file)\n",
    "print(file_data)"
   ]
  },
  {
   "cell_type": "code",
   "execution_count": 9,
   "metadata": {},
   "outputs": [
    {
     "name": "stdout",
     "output_type": "stream",
     "text": [
      "[[0.17400603 0.09626973 0.06998939 ... 0.16701891 0.14545998 0.0546054 ]]\n"
     ]
    }
   ],
   "source": [
    "file  = r'output\\000831_flow.npy'\n",
    "\n",
    "file_data = np.load(file)\n",
    "print(file_data)"
   ]
  },
  {
   "cell_type": "code",
   "execution_count": 10,
   "metadata": {},
   "outputs": [
    {
     "name": "stdout",
     "output_type": "stream",
     "text": [
      "[[0.20879723 0.08346298 0.01907616 ... 0.00112191 0.00247125 0.10361966]]\n"
     ]
    }
   ],
   "source": [
    "file  = r'output\\000832_flow.npy'\n",
    "\n",
    "file_data = np.load(file)\n",
    "print(file_data)"
   ]
  },
  {
   "cell_type": "code",
   "execution_count": 7,
   "metadata": {},
   "outputs": [
    {
     "data": {
      "text/plain": [
       "(1, 1024)"
      ]
     },
     "execution_count": 7,
     "metadata": {},
     "output_type": "execute_result"
    }
   ],
   "source": [
    "file_data.shape"
   ]
  },
  {
   "cell_type": "code",
   "execution_count": null,
   "metadata": {},
   "outputs": [],
   "source": []
  }
 ],
 "metadata": {
  "kernelspec": {
   "display_name": "neural-env",
   "language": "python",
   "name": "python3"
  },
  "language_info": {
   "codemirror_mode": {
    "name": "ipython",
    "version": 3
   },
   "file_extension": ".py",
   "mimetype": "text/x-python",
   "name": "python",
   "nbconvert_exporter": "python",
   "pygments_lexer": "ipython3",
   "version": "3.9.18"
  }
 },
 "nbformat": 4,
 "nbformat_minor": 2
}
